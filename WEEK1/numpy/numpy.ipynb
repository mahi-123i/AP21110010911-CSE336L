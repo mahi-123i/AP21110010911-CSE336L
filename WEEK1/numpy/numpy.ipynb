{
  "nbformat": 4,
  "nbformat_minor": 0,
  "metadata": {
    "colab": {
      "provenance": []
    },
    "kernelspec": {
      "name": "python3",
      "display_name": "Python 3"
    },
    "language_info": {
      "name": "python"
    }
  },
  "cells": [
    {
      "cell_type": "code",
      "execution_count": 4,
      "metadata": {
        "colab": {
          "base_uri": "https://localhost:8080/"
        },
        "id": "4aJ3vZcHbWRR",
        "outputId": "19ba28a7-78cb-47d8-9480-9a488dac7661"
      },
      "outputs": [
        {
          "output_type": "stream",
          "name": "stdout",
          "text": [
            "new array :\n",
            "[ 5 12 21 32]\n"
          ]
        }
      ],
      "source": [
        "import numpy as np\n",
        "\n",
        "array1 = np.array([1, 2, 3, 4])\n",
        "array2 = np.array([5, 6, 7, 8])\n",
        "\n",
        "result = array1 * array2\n",
        "\n",
        "print(\"new array :\")\n",
        "print(result)\n"
      ]
    },
    {
      "cell_type": "code",
      "source": [
        "import numpy as np\n",
        "\n",
        "arr1 = np.array([1, 2, np.nan, 4, np.nan, 6])\n",
        "\n",
        "missing = np.isnan(arr1)\n",
        "\n",
        "print(\"Indices of missing data:\")\n",
        "print(missing)\n"
      ],
      "metadata": {
        "colab": {
          "base_uri": "https://localhost:8080/"
        },
        "id": "0tglT2PYbjNE",
        "outputId": "426d1798-bdc3-4423-84b7-b6bd9f8ad977"
      },
      "execution_count": 5,
      "outputs": [
        {
          "output_type": "stream",
          "name": "stdout",
          "text": [
            "Indices of missing data:\n",
            "[False False  True False  True False]\n"
          ]
        }
      ]
    },
    {
      "cell_type": "code",
      "source": [
        "import numpy as np\n",
        "\n",
        "array1 = np.array([1, 2, 3, 4])\n",
        "array2 = np.array([3, 4, 5, 6])\n",
        "\n",
        "result = np.isin(array1, array2)\n",
        "\n",
        "print(\"Boolean array:\")\n",
        "print(result)\n"
      ],
      "metadata": {
        "colab": {
          "base_uri": "https://localhost:8080/"
        },
        "id": "Hegp5J1FbvMZ",
        "outputId": "6d68fa1d-b9ce-4a44-b798-9e4ee7dba18d"
      },
      "execution_count": 7,
      "outputs": [
        {
          "output_type": "stream",
          "name": "stdout",
          "text": [
            "Boolean array:\n",
            "[False False  True  True]\n"
          ]
        }
      ]
    },
    {
      "cell_type": "code",
      "source": [
        "import numpy as np\n",
        "\n",
        "arr1 = np.array([[1, 2, 3], [4, 5, 6]])\n",
        "\n",
        "np.savetxt('array.txt', arr1)\n",
        "\n",
        "print(\"Array saved\")\n"
      ],
      "metadata": {
        "colab": {
          "base_uri": "https://localhost:8080/"
        },
        "id": "fRiBwJdyb2n0",
        "outputId": "93463f0e-84ae-4658-b817-312aee3b2abf"
      },
      "execution_count": 12,
      "outputs": [
        {
          "output_type": "stream",
          "name": "stdout",
          "text": [
            "Array saved\n"
          ]
        }
      ]
    },
    {
      "cell_type": "code",
      "source": [
        "import numpy as np\n",
        "\n",
        "evenlyarray = np.linspace(2.5, 6.5, 30)\n",
        "\n",
        "print(\"Evenly spaced array:\")\n",
        "print(evenlyarray)\n"
      ],
      "metadata": {
        "colab": {
          "base_uri": "https://localhost:8080/"
        },
        "id": "_8pHmqf8cHCG",
        "outputId": "fe3d5244-0269-4086-dbcd-0de6f7888548"
      },
      "execution_count": 9,
      "outputs": [
        {
          "output_type": "stream",
          "name": "stdout",
          "text": [
            "Evenly spaced array:\n",
            "[2.5        2.63793103 2.77586207 2.9137931  3.05172414 3.18965517\n",
            " 3.32758621 3.46551724 3.60344828 3.74137931 3.87931034 4.01724138\n",
            " 4.15517241 4.29310345 4.43103448 4.56896552 4.70689655 4.84482759\n",
            " 4.98275862 5.12068966 5.25862069 5.39655172 5.53448276 5.67241379\n",
            " 5.81034483 5.94827586 6.0862069  6.22413793 6.36206897 6.5       ]\n"
          ]
        }
      ]
    }
  ]
}