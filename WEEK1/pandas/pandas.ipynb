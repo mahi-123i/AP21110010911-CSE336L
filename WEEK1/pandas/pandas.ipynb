{
  "nbformat": 4,
  "nbformat_minor": 0,
  "metadata": {
    "colab": {
      "provenance": []
    },
    "kernelspec": {
      "name": "python3",
      "display_name": "Python 3"
    },
    "language_info": {
      "name": "python"
    }
  },
  "cells": [
    {
      "cell_type": "code",
      "source": [
        "import pandas as pd"
      ],
      "metadata": {
        "id": "qMvp1cMVEiCq"
      },
      "execution_count": 10,
      "outputs": []
    },
    {
      "cell_type": "code",
      "source": [
        "#1\n",
        "data = pd.Series([[1, 2, 3], [4, 5], [6]])\n",
        "result = data.apply(pd.Series).stack().reset_index(drop=True)\n",
        "print(result)\n"
      ],
      "metadata": {
        "colab": {
          "base_uri": "https://localhost:8080/"
        },
        "id": "gIaNks3kgXFa",
        "outputId": "649b540f-a428-4cdc-b027-ef2317d13928"
      },
      "execution_count": 8,
      "outputs": [
        {
          "output_type": "stream",
          "name": "stdout",
          "text": [
            "0    1.0\n",
            "1    2.0\n",
            "2    3.0\n",
            "3    4.0\n",
            "4    5.0\n",
            "5    6.0\n",
            "dtype: float64\n"
          ]
        }
      ]
    },
    {
      "cell_type": "code",
      "source": [
        "#2\n",
        "data = pd.Series([1, 2, 3, 4, 5])\n",
        "subset = data[data > 2]\n",
        "print(subset)"
      ],
      "metadata": {
        "colab": {
          "base_uri": "https://localhost:8080/"
        },
        "id": "X5YMnGoUgbeF",
        "outputId": "e98d9985-4a0c-4cd9-ada2-57efd740c131"
      },
      "execution_count": null,
      "outputs": [
        {
          "output_type": "stream",
          "name": "stdout",
          "text": [
            "2    3\n",
            "3    4\n",
            "4    5\n",
            "dtype: int64\n"
          ]
        }
      ]
    },
    {
      "cell_type": "code",
      "source": [
        "#3\n",
        "data = pd.Series([1, 2, 2, 3, 3, 3, 4, 4, 4, 4])\n",
        "most_frequent = data.mode().iloc[0]\n",
        "result = data.apply(lambda x: most_frequent if x == most_frequent else 'Other')\n",
        "print(result)\n"
      ],
      "metadata": {
        "colab": {
          "base_uri": "https://localhost:8080/"
        },
        "id": "rCMuouBwgbg-",
        "outputId": "b34312b3-7721-4267-f399-68ce575cee16"
      },
      "execution_count": 1,
      "outputs": [
        {
          "output_type": "stream",
          "name": "stdout",
          "text": [
            "0    Other\n",
            "1    Other\n",
            "2    Other\n",
            "3    Other\n",
            "4    Other\n",
            "5    Other\n",
            "6        4\n",
            "7        4\n",
            "8        4\n",
            "9        4\n",
            "dtype: object\n"
          ]
        }
      ]
    },
    {
      "cell_type": "code",
      "source": [
        "#4\n",
        "data = pd.Series([1, 5, 10, 15, 20, 24])\n",
        "pos = data.index[data % 5 == 0].tolist()\n",
        "print(data)\n",
        "print(pos)\n"
      ],
      "metadata": {
        "id": "Ux4DFDgMgbjw",
        "colab": {
          "base_uri": "https://localhost:8080/"
        },
        "outputId": "6b13c147-d681-4df2-a1f6-91105d843c22"
      },
      "execution_count": 4,
      "outputs": [
        {
          "output_type": "stream",
          "name": "stdout",
          "text": [
            "0     1\n",
            "1     5\n",
            "2    10\n",
            "3    15\n",
            "4    20\n",
            "5    24\n",
            "dtype: int64\n",
            "[1, 2, 3, 4]\n"
          ]
        }
      ]
    },
    {
      "cell_type": "code",
      "source": [
        "#5\n",
        "data = pd.Series(['mahesh', 'ganesh', 'ritesh'])\n",
        "result = data.apply(lambda x: len(x))\n",
        "print(result)"
      ],
      "metadata": {
        "id": "IPEXu2afgbmz",
        "colab": {
          "base_uri": "https://localhost:8080/"
        },
        "outputId": "c8d475ab-c659-48e3-9627-c86cc60a8e83"
      },
      "execution_count": 5,
      "outputs": [
        {
          "output_type": "stream",
          "name": "stdout",
          "text": [
            "0    6\n",
            "1    6\n",
            "2    6\n",
            "dtype: int64\n"
          ]
        }
      ]
    },
    {
      "cell_type": "code",
      "source": [
        "#6\n",
        "data = pd.Series(['2022-01', '2022-02', '2022-03'])\n",
        "result = pd.to_datetime(data + '-01')\n",
        "print(result)"
      ],
      "metadata": {
        "id": "D7Evrix9gbpy",
        "colab": {
          "base_uri": "https://localhost:8080/"
        },
        "outputId": "06e71f34-f81f-4f74-b03c-5b1e059b5420"
      },
      "execution_count": 6,
      "outputs": [
        {
          "output_type": "stream",
          "name": "stdout",
          "text": [
            "0   2022-01-01\n",
            "1   2022-02-01\n",
            "2   2022-03-01\n",
            "dtype: datetime64[ns]\n"
          ]
        }
      ]
    },
    {
      "cell_type": "code",
      "source": [
        "#7\n",
        "data = {'Name': ['mahesh', 'ganesh', 'ritesh'],\n",
        "        'Age': [20, 22, 20],\n",
        "        'City': ['tenali','New York', 'tenali']}\n",
        "df = pd.DataFrame(data, index=['A', 'B', 'C'])\n",
        "\n",
        "print(df)"
      ],
      "metadata": {
        "id": "r0i6YebCgbse",
        "colab": {
          "base_uri": "https://localhost:8080/"
        },
        "outputId": "f18b0d2a-f58e-457b-fdea-69b9fe267326"
      },
      "execution_count": 7,
      "outputs": [
        {
          "output_type": "stream",
          "name": "stdout",
          "text": [
            "     Name  Age      City\n",
            "A  mahesh   20    tenali\n",
            "B  ganesh   22  New York\n",
            "C  ritesh   20    tenali\n"
          ]
        }
      ]
    },
    {
      "cell_type": "code",
      "source": [
        "#8\n",
        "data = {'Name': ['mahesh', 'ganesh', 'ritesh'],'Attempts': [1, 3, 2]}\n",
        "df = pd.DataFrame(data)\n",
        "result = df[df['Attempts'] > 2]\n",
        "print(result)"
      ],
      "metadata": {
        "colab": {
          "base_uri": "https://localhost:8080/"
        },
        "id": "QudeUGIlEeHr",
        "outputId": "1dea46b0-79b4-4fc6-e1d2-35b021e73471"
      },
      "execution_count": 19,
      "outputs": [
        {
          "output_type": "stream",
          "name": "stdout",
          "text": [
            "     Name  Attempts\n",
            "1  ganesh         3\n"
          ]
        }
      ]
    },
    {
      "cell_type": "code",
      "source": [
        "#9\n",
        "data = {'Name': ['mahesh', 'ganesh', 'ritesh'],\n",
        "        'Age': [20, 22, 20]}\n",
        "df = pd.DataFrame(data)\n",
        "new_row = pd.DataFrame({'Name': ['Alice'], 'Age': [28]})\n",
        "df = pd.concat([df, new_row], ignore_index=True)\n",
        "df = df.drop(index=df.index[-1])\n",
        "print(df)"
      ],
      "metadata": {
        "colab": {
          "base_uri": "https://localhost:8080/"
        },
        "id": "OL3k9_DDEeKG",
        "outputId": "0447b732-31fd-490e-fc85-2c3d1ddee002"
      },
      "execution_count": 18,
      "outputs": [
        {
          "output_type": "stream",
          "name": "stdout",
          "text": [
            "     Name  Age\n",
            "0  mahesh   20\n",
            "1  ganesh   22\n",
            "2  ritesh   20\n"
          ]
        }
      ]
    },
    {
      "cell_type": "code",
      "source": [
        "#10\n",
        "import pandas as pd\n",
        "data = {'Name': ['mahesh', 'ganesh', 'ritesh'],\n",
        "        'Score': [80, 95, 88]}\n",
        "df = pd.DataFrame(data)\n",
        "result = df.sort_values(by=['Name', 'Score'], ascending=[False, True])\n",
        "\n",
        "print(result)"
      ],
      "metadata": {
        "colab": {
          "base_uri": "https://localhost:8080/"
        },
        "id": "lH3va3w4EeNj",
        "outputId": "64e563d3-baa9-4c58-ec81-7e8d1425da6c"
      },
      "execution_count": 17,
      "outputs": [
        {
          "output_type": "stream",
          "name": "stdout",
          "text": [
            "     Name  Score\n",
            "2  ritesh     88\n",
            "0  mahesh     80\n",
            "1  ganesh     95\n"
          ]
        }
      ]
    },
    {
      "cell_type": "code",
      "source": [
        "#11\n",
        "data = {'Name':['mahesh', 'ganesh', 'ritesh'],\n",
        "        'Qualify': ['yes', 'no', 'yes']}\n",
        "df = pd.DataFrame(data)\n",
        "df['Qualify'] = df['Qualify'].map({'yes': True, 'no': False})\n",
        "print(df)"
      ],
      "metadata": {
        "colab": {
          "base_uri": "https://localhost:8080/"
        },
        "id": "3V0XPau0EeRC",
        "outputId": "7533ee90-69d2-41ac-a33a-3246d8c84ea0"
      },
      "execution_count": 20,
      "outputs": [
        {
          "output_type": "stream",
          "name": "stdout",
          "text": [
            "     Name  Qualify\n",
            "0  mahesh     True\n",
            "1  ganesh    False\n",
            "2  ritesh     True\n"
          ]
        }
      ]
    },
    {
      "cell_type": "code",
      "source": [
        "#12\n",
        "import numpy as np\n",
        "data = {'Value': [1, 2, np.inf, 4, -np.inf, 6]}\n",
        "df = pd.DataFrame(data)\n",
        "df.replace([np.inf, -np.inf], np.nan, inplace=True)\n",
        "df.dropna(inplace=True)\n",
        "print(df)"
      ],
      "metadata": {
        "colab": {
          "base_uri": "https://localhost:8080/"
        },
        "id": "B1GqjMkOGM07",
        "outputId": "1b3bcbf6-1ada-4da0-b58f-54e593e417aa"
      },
      "execution_count": 21,
      "outputs": [
        {
          "output_type": "stream",
          "name": "stdout",
          "text": [
            "   Value\n",
            "0    1.0\n",
            "1    2.0\n",
            "3    4.0\n",
            "5    6.0\n"
          ]
        }
      ]
    }
  ]
}