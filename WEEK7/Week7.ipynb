{
  "nbformat": 4,
  "nbformat_minor": 0,
  "metadata": {
    "colab": {
      "provenance": [],
      "gpuType": "T4"
    },
    "kernelspec": {
      "name": "python3",
      "display_name": "Python 3"
    },
    "language_info": {
      "name": "python"
    },
    "accelerator": "GPU"
  },
  "cells": [
    {
      "cell_type": "code",
      "execution_count": 1,
      "metadata": {
        "id": "posFMclESR68"
      },
      "outputs": [],
      "source": [
        "import numpy as np\n",
        "import pandas as pd"
      ]
    },
    {
      "cell_type": "code",
      "source": [
        "x=[2,4,6,8,10]\n",
        "y=[1,2,3,4,5]\n",
        "v1=np.array(x)\n",
        "v2=np.array(y)"
      ],
      "metadata": {
        "id": "jRIAmwjpShsI"
      },
      "execution_count": 22,
      "outputs": []
    },
    {
      "cell_type": "code",
      "source": [
        "#Q1\n",
        "a=np.mean(v1)\n",
        "print(\"Mean =\",a)\n",
        "v11=np.subtract(v1,a)\n",
        "n=len(x)\n",
        "va=v11**2\n",
        "va=np.sum(va)\n",
        "var1=va/(n-1)\n",
        "print(\"variance=\",var1)"
      ],
      "metadata": {
        "colab": {
          "base_uri": "https://localhost:8080/"
        },
        "id": "n3uaxe4lSmh1",
        "outputId": "d1a96414-88a3-4dae-cf78-4c45fe9bb61c"
      },
      "execution_count": 50,
      "outputs": [
        {
          "output_type": "stream",
          "name": "stdout",
          "text": [
            "Mean = 6.0\n",
            "variance= 10.0\n"
          ]
        }
      ]
    },
    {
      "cell_type": "code",
      "source": [
        "b=np.mean(v1)\n",
        "print(\"Mean =\",b)\n",
        "v11=np.subtract(v1,b)\n",
        "n=len(v11)\n",
        "vb=v11**2\n",
        "vb=np.sum(vb)\n",
        "var2=va/(n-1)\n",
        "print(\"variance=\",var2)"
      ],
      "metadata": {
        "colab": {
          "base_uri": "https://localhost:8080/"
        },
        "id": "H0u-A6a2ZqoH",
        "outputId": "439aa453-9655-4b74-b95d-7140756a9627"
      },
      "execution_count": 32,
      "outputs": [
        {
          "output_type": "stream",
          "name": "stdout",
          "text": [
            "Mean = 6.0\n",
            "variance= 5.0\n"
          ]
        }
      ]
    },
    {
      "cell_type": "code",
      "source": [
        "#Q2\n",
        "va1=np.subtract(x,a)\n",
        "vb1=np.subtract(y,b)\n",
        "va=va1*vb1\n",
        "n=len(x)\n",
        "va=np.sum(va)\n",
        "cov=va/(n-1)\n",
        "print(\"Covariance=\",cov)"
      ],
      "metadata": {
        "colab": {
          "base_uri": "https://localhost:8080/"
        },
        "id": "SA6eCvzUWbks",
        "outputId": "5dd11ee6-574f-4fc6-875b-bcda1c557876"
      },
      "execution_count": 31,
      "outputs": [
        {
          "output_type": "stream",
          "name": "stdout",
          "text": [
            "Covariance= 5.0\n"
          ]
        }
      ]
    },
    {
      "cell_type": "code",
      "source": [
        "#Q3\n",
        "corr=cov/(var1*var2)**(1/2)\n",
        "print(\"Correlation=\",corr)"
      ],
      "metadata": {
        "colab": {
          "base_uri": "https://localhost:8080/"
        },
        "id": "nSYNGlEZX4M2",
        "outputId": "60147ac0-a51e-4c4b-afbb-e3183fa5b360"
      },
      "execution_count": 53,
      "outputs": [
        {
          "output_type": "stream",
          "name": "stdout",
          "text": [
            "Correlation= 0.7071067811865475\n"
          ]
        }
      ]
    },
    {
      "cell_type": "code",
      "source": [
        "#Q4\n",
        "z=[[2,4,6,8,10],[1,2,3,4,5]]\n",
        "z=np.array(z)\n",
        "covmatrix=np.cov(z)\n",
        "print(\"covariance matrix:\\n\",covmatrix,\"\\n\")\n",
        "corrmatrix = np.corrcoef(z)\n",
        "print(\"correlation matrix:\\n\",corrmatrix)\n"
      ],
      "metadata": {
        "colab": {
          "base_uri": "https://localhost:8080/"
        },
        "id": "rNL6yOh7aNjj",
        "outputId": "64a3c563-9919-459a-fc71-be5cb3bf514d"
      },
      "execution_count": 55,
      "outputs": [
        {
          "output_type": "stream",
          "name": "stdout",
          "text": [
            "covariance matrix:\n",
            " [[10.   5. ]\n",
            " [ 5.   2.5]] \n",
            "\n",
            "correlation matrix:\n",
            " [[1. 1.]\n",
            " [1. 1.]]\n"
          ]
        }
      ]
    },
    {
      "cell_type": "code",
      "source": [],
      "metadata": {
        "id": "nxtG5Lhvb2gk"
      },
      "execution_count": null,
      "outputs": []
    }
  ]
}